{
 "cells": [
  {
   "cell_type": "markdown",
   "id": "a405a8c2",
   "metadata": {},
   "source": [
    "#### 1. ☼ Define a string s = 'colorless'. Write a Python statement that changes this to \"colourless\" using only the slice and concatenation operations."
   ]
  },
  {
   "cell_type": "code",
   "execution_count": 1,
   "id": "71f11b65",
   "metadata": {},
   "outputs": [
    {
     "data": {
      "text/plain": [
       "'colourless'"
      ]
     },
     "execution_count": 1,
     "metadata": {},
     "output_type": "execute_result"
    }
   ],
   "source": [
    "s = 'colorless'\n",
    "s = s[:4] + 'u' + s[4:]\n",
    "s"
   ]
  },
  {
   "cell_type": "markdown",
   "id": "54625629",
   "metadata": {},
   "source": [
    "#### 2. ☼ We can use the slice notation to remove morphological endings on words. For example, 'dogs'[:-1] removes the last character of dogs, leaving dog. Use slice notation to remove the affixes from these words (we've inserted a hyphen to indicate the affix boundary, but omit this from your strings): dish-es, run-ning, nation-ality, un-do, pre-heat."
   ]
  },
  {
   "cell_type": "code",
   "execution_count": 2,
   "id": "7afa61fc",
   "metadata": {},
   "outputs": [
    {
     "name": "stdout",
     "output_type": "stream",
     "text": [
      "dish-es          -> dish\n",
      "run-ning         -> run\n",
      "nation-ality     -> nation\n",
      "un-do            -> un\n",
      "pre-heat         -> pre\n"
     ]
    }
   ],
   "source": [
    "words = ['dish-es', 'run-ning', 'nation-ality', 'un-do', 'pre-heat']\n",
    "def remove_affixes(words):\n",
    "    for word in words:\n",
    "        print('{:16} -> {}'.format(word,word[:word.index('-')]))\n",
    "remove_affixes(words)"
   ]
  },
  {
   "cell_type": "markdown",
   "id": "8b07f673",
   "metadata": {},
   "source": [
    "#### 3. ☼ We saw how we can generate an IndexError by indexing beyond the end of a string. Is it possible to construct an index that goes too far to the left, before the start of the string?"
   ]
  },
  {
   "cell_type": "code",
   "execution_count": 3,
   "id": "eb2f94bd",
   "metadata": {},
   "outputs": [],
   "source": [
    "#'0123'[4]"
   ]
  },
  {
   "cell_type": "markdown",
   "id": "5efa6013",
   "metadata": {},
   "source": [
    "#### 4. ☼ We can specify a \"step\" size for the slice. The following returns every second character within the slice: monty[6:11:2]. It also works in the reverse direction: monty[10:5:-2] Try these for yourself, then experiment with different step values."
   ]
  },
  {
   "cell_type": "code",
   "execution_count": 4,
   "id": "0869e859",
   "metadata": {},
   "outputs": [
    {
     "data": {
      "text/plain": [
       "'mnypto'"
      ]
     },
     "execution_count": 4,
     "metadata": {},
     "output_type": "execute_result"
    }
   ],
   "source": [
    "'monty python'[::2]"
   ]
  },
  {
   "cell_type": "code",
   "execution_count": 5,
   "id": "e5b734f3",
   "metadata": {},
   "outputs": [
    {
     "data": {
      "text/plain": [
       "'nhy to'"
      ]
     },
     "execution_count": 5,
     "metadata": {},
     "output_type": "execute_result"
    }
   ],
   "source": [
    "'monty python'[::-2]"
   ]
  },
  {
   "cell_type": "markdown",
   "id": "78f7ded1",
   "metadata": {},
   "source": [
    "#### 5. ☼ What happens if you ask the interpreter to evaluate monty[::-1]? Explain why this is a reasonable result."
   ]
  },
  {
   "cell_type": "code",
   "execution_count": 6,
   "id": "a1f38d63",
   "metadata": {},
   "outputs": [
    {
     "data": {
      "text/plain": [
       "'ytnom'"
      ]
     },
     "execution_count": 6,
     "metadata": {},
     "output_type": "execute_result"
    }
   ],
   "source": [
    "'monty'[::-1]"
   ]
  },
  {
   "cell_type": "markdown",
   "id": "bf15f417",
   "metadata": {},
   "source": [
    "The inital index is 0, and the step is -1, it runs as 0, -1, -2, -3, ..."
   ]
  },
  {
   "cell_type": "code",
   "execution_count": null,
   "id": "292c3cff",
   "metadata": {},
   "outputs": [],
   "source": []
  }
 ],
 "metadata": {
  "kernelspec": {
   "display_name": "Python 3",
   "language": "python",
   "name": "python3"
  },
  "language_info": {
   "codemirror_mode": {
    "name": "ipython",
    "version": 3
   },
   "file_extension": ".py",
   "mimetype": "text/x-python",
   "name": "python",
   "nbconvert_exporter": "python",
   "pygments_lexer": "ipython3",
   "version": "3.8.2"
  }
 },
 "nbformat": 4,
 "nbformat_minor": 5
}
