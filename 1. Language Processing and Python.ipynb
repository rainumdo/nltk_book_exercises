{
 "cells": [
  {
   "cell_type": "code",
   "execution_count": 1,
   "id": "a22ad4c2",
   "metadata": {},
   "outputs": [
    {
     "name": "stdout",
     "output_type": "stream",
     "text": [
      "*** Introductory Examples for the NLTK Book ***\n",
      "Loading text1, ..., text9 and sent1, ..., sent9\n",
      "Type the name of the text or sentence to view it.\n",
      "Type: 'texts()' or 'sents()' to list the materials.\n",
      "text1: Moby Dick by Herman Melville 1851\n",
      "text2: Sense and Sensibility by Jane Austen 1811\n",
      "text3: The Book of Genesis\n",
      "text4: Inaugural Address Corpus\n",
      "text5: Chat Corpus\n",
      "text6: Monty Python and the Holy Grail\n",
      "text7: Wall Street Journal\n",
      "text8: Personals Corpus\n",
      "text9: The Man Who Was Thursday by G . K . Chesterton 1908\n"
     ]
    }
   ],
   "source": [
    "from nltk.book import *"
   ]
  },
  {
   "cell_type": "markdown",
   "id": "dce0708e",
   "metadata": {},
   "source": [
    "#### 1. Try using the Python interpreter as a calculator, and typing expressions like 12 / (4 + 1)."
   ]
  },
  {
   "cell_type": "code",
   "execution_count": 2,
   "id": "62f53ee4",
   "metadata": {},
   "outputs": [
    {
     "data": {
      "text/plain": [
       "2.4"
      ]
     },
     "execution_count": 2,
     "metadata": {},
     "output_type": "execute_result"
    }
   ],
   "source": [
    "12/(4+1)"
   ]
  },
  {
   "cell_type": "markdown",
   "id": "6780937e",
   "metadata": {},
   "source": [
    "#### 2. Given an alphabet of 26 letters, there are 26 to the power 10, or 26 ** 10, ten-letter strings we can form. That works out to 141167095653376. How many hundred-letter strings are possible?"
   ]
  },
  {
   "cell_type": "code",
   "execution_count": 3,
   "id": "3cedd641",
   "metadata": {},
   "outputs": [
    {
     "data": {
      "text/plain": [
       "3142930641582938830174357788501626427282669988762475256374173175398995908420104023465432599069702289330964075081611719197835869803511992549376"
      ]
     },
     "execution_count": 3,
     "metadata": {},
     "output_type": "execute_result"
    }
   ],
   "source": [
    "26**100"
   ]
  },
  {
   "cell_type": "markdown",
   "id": "3099d87d",
   "metadata": {},
   "source": [
    "#### 3. The Python multiplication operation can be applied to lists. What happens when you type ['Monty', 'Python'] * 20, or 3 * sent1?"
   ]
  },
  {
   "cell_type": "code",
   "execution_count": 4,
   "id": "37ca9cb4",
   "metadata": {},
   "outputs": [
    {
     "name": "stdout",
     "output_type": "stream",
     "text": [
      "['Monty', 'Python', 'Monty', 'Python', 'Monty', 'Python', 'Monty', 'Python', 'Monty', 'Python', 'Monty', 'Python', 'Monty', 'Python', 'Monty', 'Python', 'Monty', 'Python', 'Monty', 'Python', 'Monty', 'Python', 'Monty', 'Python', 'Monty', 'Python', 'Monty', 'Python', 'Monty', 'Python', 'Monty', 'Python', 'Monty', 'Python', 'Monty', 'Python', 'Monty', 'Python', 'Monty', 'Python']\n",
      "['Call', 'me', 'Ishmael', '.', 'Call', 'me', 'Ishmael', '.', 'Call', 'me', 'Ishmael', '.']\n"
     ]
    }
   ],
   "source": [
    "print(['Monty', 'Python'] * 20)\n",
    "print(3 * sent1)"
   ]
  },
  {
   "cell_type": "markdown",
   "id": "9ab961bd",
   "metadata": {},
   "source": [
    "#### 4. Review 1 on computing with language. How many words are there in text2? How many distinct words are there?"
   ]
  },
  {
   "cell_type": "code",
   "execution_count": 5,
   "id": "c89dc106",
   "metadata": {},
   "outputs": [
    {
     "name": "stdout",
     "output_type": "stream",
     "text": [
      "141576\n",
      "6833\n"
     ]
    }
   ],
   "source": [
    "print(len(text2))\n",
    "print(len(set(text2)))"
   ]
  },
  {
   "cell_type": "markdown",
   "id": "6d396c0d",
   "metadata": {},
   "source": [
    "#### 5. Compare the lexical diversity scores for humor and romance fiction in 1.1. Which genre is more lexically diverse?"
   ]
  },
  {
   "cell_type": "code",
   "execution_count": 6,
   "id": "8da4f543",
   "metadata": {},
   "outputs": [
    {
     "name": "stdout",
     "output_type": "stream",
     "text": [
      "22.77% : Personals Corpus\n",
      "13.48% : Chat Corpus\n",
      "12.77% : Monty Python and the Holy Grail\n",
      "12.32% : Wall Street Journal\n",
      "9.83% : The Man Who Was Thursday by G . K . Chesterton 1908\n",
      "7.41% : Moby Dick by Herman Melville 1851\n",
      "6.62% : Inaugural Address Corpus\n",
      "6.23% : The Book of Genesis\n",
      "4.83% : Sense and Sensibility by Jane Austen 1811\n"
     ]
    }
   ],
   "source": [
    "# calcuate the lexically diversity\n",
    "def lexical_diversity(text):\n",
    "    return len(set(text)) / len(text) * 100\n",
    "\n",
    "# iterate all texts\n",
    "text_list = [text1, text2, text3, text4, text5, text6, text7, text8, text9]\n",
    "texts_lex_div = {}\n",
    "for text in text_list:\n",
    "    texts_lex_div[text.name] = lexical_diversity(text)\n",
    "    \n",
    "# sort\n",
    "texts_lex_div = sorted(texts_lex_div.items(),key=lambda item:item[1], reverse=True)\n",
    "\n",
    "# print\n",
    "for k,v in texts_lex_div:\n",
    "    print('%.2f%% : %s' % (v,k))\n"
   ]
  },
  {
   "cell_type": "code",
   "execution_count": null,
   "id": "ce39483c",
   "metadata": {},
   "outputs": [],
   "source": []
  }
 ],
 "metadata": {
  "kernelspec": {
   "display_name": "Python 3",
   "language": "python",
   "name": "python3"
  },
  "language_info": {
   "codemirror_mode": {
    "name": "ipython",
    "version": 3
   },
   "file_extension": ".py",
   "mimetype": "text/x-python",
   "name": "python",
   "nbconvert_exporter": "python",
   "pygments_lexer": "ipython3",
   "version": "3.8.2"
  }
 },
 "nbformat": 4,
 "nbformat_minor": 5
}
